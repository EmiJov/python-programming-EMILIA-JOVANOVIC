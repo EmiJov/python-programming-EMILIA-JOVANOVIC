{
 "cells": [
  {
   "cell_type": "code",
   "execution_count": 1,
   "id": "bf26c221",
   "metadata": {},
   "outputs": [
    {
     "data": {
      "image/png": "[encoded data removed]",
      "text/plain": [
       "<Figure size 640x480 with 1 Axes>"
      ]
     },
     "metadata": {},
     "output_type": "display_data"
    }
   ],
   "source": [
    "import matplotlib.pyplot as plt\n",
    "\n",
    "x = list(range(10))\n",
    "y = [i**2 for i in x]\n",
    "\n",
    "fig, ax = plt.figure(), plt.axes()\n",
    "ax.plot(x, y)\n",
    "ax.set(title=\"Plot\", xlabel=\"x\", ylabel=\"y\")\n",
    "\n",
    "plt.show()"
   ]
  },
  {
   "cell_type": "markdown",
   "id": "2d615136",
   "metadata": {},
   "source": [
    "1 import matplotlib . pyplot as plt\n",
    "2 x = list ( range (10) )\n",
    "3 y = [ i **2 for i in x]\n",
    "4 fig , ax = plt . figure () , plt . axes ()\n",
    "5 ax . plot (x ,y )\n",
    "6 ax . set ( title =\" Plot \", xlabel =\" x\", ylabel =\" y \")\n",
    "\n",
    "1 Importerar bibliotek som används för att skapa grafer och diagram.\n",
    "2 Skapar en lista x med värden från 0-9 med hjälp av range (10)\n",
    "3 Vi går igenom varje siffra i listan x, räknar ut vad den blir om man gångar den med sig själv, och lägger svaret i y. Det skrivs som [i**2 for i in x], vilket är ett snabbt sätt att göra en ny lista\n",
    "4 Skapar ett figur-objekt (fig) och ett axel-objekt (ax) som används för att rita grafen. fig, ax = plt.subplots(), man kan även använda denna kod som är vanligast för att få både fig + ax\n",
    "5 Ritar en linje mellan punkterna i x och y\n",
    "6 Sätter titel och axel-etiketter"
   ]
  },
  {
   "cell_type": "code",
   "execution_count": 9,
   "id": "3a2523b6",
   "metadata": {},
   "outputs": [
    {
     "name": "stdout",
     "output_type": "stream",
     "text": [
      "e\n"
     ]
    }
   ],
   "source": [
    "frukter = [\"jordgubbe\" , \"vindruva\", \"grape\"]\n",
    "godfrukt = frukter [2]\n",
    "print (godfrukt [-1])"
   ]
  },
  {
   "cell_type": "markdown",
   "id": "9f2ad12d",
   "metadata": {},
   "source": [
    "1 Skapar en lista med 3 frukter och innehåller 3 strängar (textvärden)\n",
    "# Listor börjar på index 0 - 0=jordgubbe, 1=vindruva, 2=grape\n",
    "2 Hämtar den tredje frukten från listan, frukter[2]=grape\n",
    "3 Skriver ut sista bokstaven i strängen \"grape\"\n",
    "\n",
    "grape = 0 1 2 3 4\n",
    "Om man istället hade skrivit godfrukt[4] hade man också fått e, och om man hade skrivit [0] så får du g."
   ]
  },
  {
   "cell_type": "code",
   "execution_count": 10,
   "id": "abe7778d",
   "metadata": {},
   "outputs": [
    {
     "name": "stdout",
     "output_type": "stream",
     "text": [
      "1:  Alice\n",
      "2:  Bob\n"
     ]
    }
   ],
   "source": [
    "def print_row(input_array):\n",
    "    for i in input_array:\n",
    "        print(f\"{int(i[0])}: {i[1:]}\")\n",
    "\n",
    "A = \"1 Alice\",  \"2 Bob\"\n",
    "print_row(A)"
   ]
  },
  {
   "cell_type": "markdown",
   "id": "0ef6bc9d",
   "metadata": {},
   "source": [
    "A = \"1 Alice \\n2 Bob\"\n",
    "Fel: A är en sträng -> loopar bokstav för bokstav.\n",
    "\n",
    "A = \"Alice\", \"Bob\"\n",
    "Fel: Lista utan siffror först -> krasch när int() försöker tolka en bokstav\n",
    "\n",
    "A = [\"1 Alice\", \"2 Bob\"]\n",
    "Rätt: Lista där varje element börjar med en siffra följt av namn\n",
    "\n",
    "Det du skriver in i A = [ ] måste matcha det mönster som koden förväntar sig. Eftersom koden tar i[0] som en siffra och i[1:] som resten, måste varje sträng i listan börja med en siffra följt av ett namn.\n",
    "\n",
    "a) Vilken rad är det som orsakar felet?\n",
    "b) Ange hur A skall se ut för att producera det väntade resultatet\n",
    "\n",
    "Svar\n",
    "a) Rad 3 - print(f\"{int(i[0])}: {i[1:]}\")\n",
    "b) A = [\"1 Alice\", \"2 Bob\"]"
   ]
  },
  {
   "cell_type": "markdown",
   "id": "132a09d2",
   "metadata": {},
   "source": [
    "1 import requests\n",
    "2 import my_document\n",
    "3 import datetime . datetime as dt\n",
    "4\n",
    "5 class MessageHandler :\n",
    "6 def MessageHandler ( self , source_url ):\n",
    "7 self . source = source_url\n",
    "8\n",
    "9 def get_source_document ( self ):\n",
    "10 return requests . get ( self . source )\n",
    "11\n",
    "12 class MessageDispatcher ( MessageHandler ):\n",
    "13 def dispatch_message ( self , message , field ):\n",
    "14 doc = self . get_source_document ()\n",
    "15 msg = my_document . update ( doc , message , field = field )\n",
    "16 requests . post ( self . source_url , msg )\n",
    "17\n",
    "18 remote = MessageDispatcher (\" https :// my - web - server \")\n",
    "19 remote . dispatch_message (\n",
    "20 f\" Last updated { dt . now () }\" ,\n",
    "21 field =’ timestamp ’)\n",
    "\n",
    "a) Vad är värdet på fältet remote.source?\n",
    "b) Beskriv vad programmets syfte kan t¨ankas vara.\n",
    "\n",
    "Svar\n",
    "a) remote = MessageDispatcher(\"https://my-web-server\") / remote.source = https://my-web-server\n",
    "b) Programmet hämtar ett dokument från en server, uppdaterar det med ett meddelande/ny information, och skickar tillbaka det till servern\n"
   ]
  },
  {
   "cell_type": "markdown",
   "id": "6ceb98f4",
   "metadata": {},
   "source": [
    "Beskriv skillnaden mellan en dictionary, set, list och tuple?\n",
    "\n",
    "Dictionary – samling av nyckel–värde-par, nycklarna är unika, värden kan ändras.\n",
    "Ex: {\"namn\": \"Alice\", \"ålder\": 25}\n",
    "\n",
    "Set – oordnad samling, kan ändras, innehåller bara unika värden (inga dubbletter).\n",
    "Ex: {\"äpple\", \"banan\", \"päron\"}¨\n",
    "\n",
    "List – ordnad samling, kan ändras (mutable), tillåter dubbletter.\n",
    "Ex: [\"äpple\", \"banan\", \"päron\"]\n",
    "\n",
    "Tuple – ordnad samling, kan inte ändras (immutable), tillåter dubbletter.\n",
    "Ex: (\"äpple\", \"banan\", \"päron\")"
   ]
  },
  {
   "cell_type": "markdown",
   "id": "7da32e90",
   "metadata": {},
   "source": [
    "1 import numpy as np\n",
    "2 def sums (A , B):\n",
    "3 out = 0\n",
    "4 for l , r in zip (A , B):\n",
    "5 out += l + r\n",
    "6 return out\n",
    "7\n",
    "8 def np_sums (A , B) :\n",
    "9 return np . sum ( np . array (A) + np . array (B))\n",
    "\n",
    "Hur påverkas prestandan relativt den andra funktionen om:\n",
    "a) Om A och B bara har några få element.\n",
    "b) Om A och B har tusentals element.\n",
    "\n",
    "Svar\n",
    "a) sums är snabbare för små listor\n",
    "b) np_sums är snabbare för stora listor"
   ]
  }
 ],
 "metadata": {
  "kernelspec": {
   "display_name": "Python 3",
   "language": "python",
   "name": "python3"
  },
  "language_info": {
   "codemirror_mode": {
    "name": "ipython",
    "version": 3
   },
   "file_extension": ".py",
   "mimetype": "text/x-python",
   "name": "python",
   "nbconvert_exporter": "python",
   "pygments_lexer": "ipython3",
   "version": "3.13.7"
  }
 },
 "nbformat": 4,
 "nbformat_minor": 5
}
